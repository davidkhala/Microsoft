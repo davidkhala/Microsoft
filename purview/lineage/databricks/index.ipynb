{
 "cells": [
  {
   "cell_type": "code",
   "execution_count": null,
   "id": "initial_id",
   "metadata": {
    "collapsed": true
   },
   "outputs": [],
   "source": [
    "\n",
    "from davidkhala.purview.databricks import lineage_data\n",
    "from databricks.sdk.runtime import dbutils, display, spark\n",
    "\n",
    "Context = dbutils.notebook.entry_point.getDbutils().notebook().getContext()\n",
    "df = lineage_data(spark, ['azureopendatastorage'], workspace_id=Context.workspaceId().get())\n",
    "display(df)"
   ]
  }
 ],
 "metadata": {
  "kernelspec": {
   "display_name": "Python 3",
   "language": "python",
   "name": "python3"
  },
  "language_info": {
   "codemirror_mode": {
    "name": "ipython",
    "version": 2
   },
   "file_extension": ".py",
   "mimetype": "text/x-python",
   "name": "python",
   "nbconvert_exporter": "python",
   "pygments_lexer": "ipython2",
   "version": "2.7.6"
  }
 },
 "nbformat": 4,
 "nbformat_minor": 5
}
